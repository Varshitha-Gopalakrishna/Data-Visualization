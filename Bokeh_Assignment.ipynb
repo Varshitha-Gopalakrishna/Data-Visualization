{
 "cells": [
  {
   "cell_type": "code",
   "execution_count": null,
   "metadata": {},
   "outputs": [],
   "source": [
    "\"\"\" BOKEH ASSIGNMENT\"\"\""
   ]
  },
  {
   "cell_type": "code",
   "execution_count": 1,
   "metadata": {},
   "outputs": [
    {
     "name": "stdout",
     "output_type": "stream",
     "text": [
      "Collecting bokeh\n",
      "  Downloading bokeh-3.5.2-py3-none-any.whl.metadata (12 kB)\n",
      "Requirement already satisfied: Jinja2>=2.9 in c:\\users\\varshitha g\\appdata\\local\\programs\\python\\python312\\lib\\site-packages (from bokeh) (3.1.4)\n",
      "Requirement already satisfied: contourpy>=1.2 in c:\\users\\varshitha g\\appdata\\local\\programs\\python\\python312\\lib\\site-packages (from bokeh) (1.3.0)\n",
      "Requirement already satisfied: numpy>=1.16 in c:\\users\\varshitha g\\appdata\\local\\programs\\python\\python312\\lib\\site-packages (from bokeh) (2.1.1)\n",
      "Requirement already satisfied: packaging>=16.8 in c:\\users\\varshitha g\\appdata\\local\\programs\\python\\python312\\lib\\site-packages (from bokeh) (24.1)\n",
      "Requirement already satisfied: pandas>=1.2 in c:\\users\\varshitha g\\appdata\\local\\programs\\python\\python312\\lib\\site-packages (from bokeh) (2.2.3)\n",
      "Requirement already satisfied: pillow>=7.1.0 in c:\\users\\varshitha g\\appdata\\local\\programs\\python\\python312\\lib\\site-packages (from bokeh) (10.4.0)\n",
      "Requirement already satisfied: PyYAML>=3.10 in c:\\users\\varshitha g\\appdata\\local\\programs\\python\\python312\\lib\\site-packages (from bokeh) (6.0.2)\n",
      "Requirement already satisfied: tornado>=6.2 in c:\\users\\varshitha g\\appdata\\local\\programs\\python\\python312\\lib\\site-packages (from bokeh) (6.4.1)\n",
      "Collecting xyzservices>=2021.09.1 (from bokeh)\n",
      "  Downloading xyzservices-2024.9.0-py3-none-any.whl.metadata (4.1 kB)\n",
      "Requirement already satisfied: MarkupSafe>=2.0 in c:\\users\\varshitha g\\appdata\\local\\programs\\python\\python312\\lib\\site-packages (from Jinja2>=2.9->bokeh) (2.1.5)\n",
      "Requirement already satisfied: python-dateutil>=2.8.2 in c:\\users\\varshitha g\\appdata\\local\\programs\\python\\python312\\lib\\site-packages (from pandas>=1.2->bokeh) (2.9.0.post0)\n",
      "Requirement already satisfied: pytz>=2020.1 in c:\\users\\varshitha g\\appdata\\local\\programs\\python\\python312\\lib\\site-packages (from pandas>=1.2->bokeh) (2024.2)\n",
      "Requirement already satisfied: tzdata>=2022.7 in c:\\users\\varshitha g\\appdata\\local\\programs\\python\\python312\\lib\\site-packages (from pandas>=1.2->bokeh) (2024.2)\n",
      "Requirement already satisfied: six>=1.5 in c:\\users\\varshitha g\\appdata\\local\\programs\\python\\python312\\lib\\site-packages (from python-dateutil>=2.8.2->pandas>=1.2->bokeh) (1.16.0)\n",
      "Downloading bokeh-3.5.2-py3-none-any.whl (6.8 MB)\n",
      "   ---------------------------------------- 0.0/6.8 MB ? eta -:--:--\n",
      "   ---------------------------------------- 0.0/6.8 MB ? eta -:--:--\n",
      "   ---------------------------------------- 0.0/6.8 MB ? eta -:--:--\n",
      "   - -------------------------------------- 0.3/6.8 MB ? eta -:--:--\n",
      "   --- ------------------------------------ 0.5/6.8 MB 882.6 kB/s eta 0:00:08\n",
      "   ---- ----------------------------------- 0.8/6.8 MB 1.2 MB/s eta 0:00:06\n",
      "   ------ --------------------------------- 1.0/6.8 MB 1.2 MB/s eta 0:00:05\n",
      "   --------- ------------------------------ 1.6/6.8 MB 1.3 MB/s eta 0:00:04\n",
      "   --------- ------------------------------ 1.6/6.8 MB 1.3 MB/s eta 0:00:04\n",
      "   ---------- ----------------------------- 1.8/6.8 MB 1.3 MB/s eta 0:00:04\n",
      "   ------------ --------------------------- 2.1/6.8 MB 1.1 MB/s eta 0:00:05\n",
      "   ------------ --------------------------- 2.1/6.8 MB 1.1 MB/s eta 0:00:05\n",
      "   ------------ --------------------------- 2.1/6.8 MB 1.1 MB/s eta 0:00:05\n",
      "   ------------- -------------------------- 2.4/6.8 MB 979.5 kB/s eta 0:00:05\n",
      "   ------------- -------------------------- 2.4/6.8 MB 979.5 kB/s eta 0:00:05\n",
      "   --------------- ------------------------ 2.6/6.8 MB 909.5 kB/s eta 0:00:05\n",
      "   --------------- ------------------------ 2.6/6.8 MB 909.5 kB/s eta 0:00:05\n",
      "   ----------------- ---------------------- 2.9/6.8 MB 887.4 kB/s eta 0:00:05\n",
      "   ----------------- ---------------------- 2.9/6.8 MB 887.4 kB/s eta 0:00:05\n",
      "   ------------------ --------------------- 3.1/6.8 MB 820.1 kB/s eta 0:00:05\n",
      "   ------------------ --------------------- 3.1/6.8 MB 820.1 kB/s eta 0:00:05\n",
      "   ------------------ --------------------- 3.1/6.8 MB 820.1 kB/s eta 0:00:05\n",
      "   -------------------- ------------------- 3.4/6.8 MB 759.7 kB/s eta 0:00:05\n",
      "   -------------------- ------------------- 3.4/6.8 MB 759.7 kB/s eta 0:00:05\n",
      "   -------------------- ------------------- 3.4/6.8 MB 759.7 kB/s eta 0:00:05\n",
      "   -------------------- ------------------- 3.4/6.8 MB 759.7 kB/s eta 0:00:05\n",
      "   --------------------- ------------------ 3.7/6.8 MB 690.1 kB/s eta 0:00:05\n",
      "   ----------------------- ---------------- 3.9/6.8 MB 711.7 kB/s eta 0:00:04\n",
      "   ------------------------ --------------- 4.2/6.8 MB 740.1 kB/s eta 0:00:04\n",
      "   ------------------------ --------------- 4.2/6.8 MB 740.1 kB/s eta 0:00:04\n",
      "   -------------------------- ------------- 4.5/6.8 MB 733.4 kB/s eta 0:00:04\n",
      "   --------------------------- ------------ 4.7/6.8 MB 756.5 kB/s eta 0:00:03\n",
      "   --------------------------- ------------ 4.7/6.8 MB 756.5 kB/s eta 0:00:03\n",
      "   ----------------------------- ---------- 5.0/6.8 MB 753.0 kB/s eta 0:00:03\n",
      "   ----------------------------- ---------- 5.0/6.8 MB 753.0 kB/s eta 0:00:03\n",
      "   ------------------------------ --------- 5.2/6.8 MB 746.5 kB/s eta 0:00:03\n",
      "   -------------------------------- ------- 5.5/6.8 MB 755.7 kB/s eta 0:00:02\n",
      "   ---------------------------------- ----- 5.8/6.8 MB 774.3 kB/s eta 0:00:02\n",
      "   ----------------------------------- ---- 6.0/6.8 MB 777.0 kB/s eta 0:00:01\n",
      "   ------------------------------------- -- 6.3/6.8 MB 795.5 kB/s eta 0:00:01\n",
      "   -------------------------------------- - 6.6/6.8 MB 803.6 kB/s eta 0:00:01\n",
      "   -------------------------------------- - 6.6/6.8 MB 803.6 kB/s eta 0:00:01\n",
      "   ---------------------------------------- 6.8/6.8 MB 802.7 kB/s eta 0:00:00\n",
      "Downloading xyzservices-2024.9.0-py3-none-any.whl (85 kB)\n",
      "Installing collected packages: xyzservices, bokeh\n",
      "Successfully installed bokeh-3.5.2 xyzservices-2024.9.0\n",
      "Note: you may need to restart the kernel to use updated packages.\n"
     ]
    }
   ],
   "source": [
    "# pip install bokeh"
   ]
  },
  {
   "cell_type": "code",
   "execution_count": 2,
   "metadata": {},
   "outputs": [],
   "source": [
    "\"\"\"\n",
    "Q1) Create a Bokeh plot displaying a sine wave. Set x-values from 0 to 10 and y-values as the sine of x.\n",
    "Answer-\n",
    "\"\"\"\n",
    "from bokeh.plotting import figure, show\n",
    "import numpy as np\n",
    "\n",
    "x = np.linspace(0, 10, 100)\n",
    "y = np.sin(x)\n",
    "\n",
    "plot = figure(title = 'Sine Wave')\n",
    "plot.xaxis.axis_label = 'x-values'\n",
    "plot.yaxis.axis_label = 'y-values'\n",
    "\n",
    "plot.line(x, y, legend_label = 'Sin(x)')\n",
    "show(plot)"
   ]
  },
  {
   "cell_type": "code",
   "execution_count": 3,
   "metadata": {},
   "outputs": [],
   "source": [
    "\"\"\"\n",
    "Q2) Create a Bokeh scatter plot using randomly generated x and y values. Use different sizes and colors for the markers based on the 'sizes'\n",
    "    and 'colors' columns.\n",
    "Answer-\n",
    "\"\"\"\n",
    "from bokeh.palettes import Viridis256\n",
    "\n",
    "x = np.random.rand(100) * 10\n",
    "y = np.random.rand(100) * 10\n",
    "\n",
    "size = np.random.randint(10, 50, 100)\n",
    "color = np.random.choice(Viridis256, 100)\n",
    "\n",
    "plot = figure(title = 'Bokeh Scatter Plot')\n",
    "plot.xaxis.axis_label = 'X-axis'\n",
    "plot.yaxis.axis_label = 'Y-axis'\n",
    "plot.scatter(x, y, color = color, size = size, fill_alpha = 0.6)\n",
    "show(plot)"
   ]
  },
  {
   "cell_type": "code",
   "execution_count": 4,
   "metadata": {},
   "outputs": [],
   "source": [
    "\"\"\"\n",
    "Q3) Generate a Bokeh bar chart representing the counts of different fruits using the following dataset.\n",
    "    fruits = ['Apples', 'Oranges', 'Bananas', 'Pears']\n",
    "    counts = [20, 25, 30, 35]\n",
    "Answer-\n",
    "\"\"\"\n",
    "fruits = ['Apples', 'Oranges', 'Bananas', 'Pears']\n",
    "counts = [20, 25, 30, 35]\n",
    "\n",
    "plot = figure(title = 'Bokeh Bar Chart', x_range = fruits)\n",
    "plot.xaxis.axis_label = 'Fruits'\n",
    "plot.yaxis.axis_label = 'Counts'\n",
    "plot.vbar(x = fruits, color = 'orange', top = counts, width= 0.5)\n",
    "show(plot)"
   ]
  },
  {
   "cell_type": "code",
   "execution_count": 5,
   "metadata": {},
   "outputs": [],
   "source": [
    "\"\"\"\n",
    "Q4) Create a Bokeh histogram to visualize the distribution of the given data.\n",
    "    data_hist = np.random.randn(1000)\n",
    "    hist, edges = np.histogram(data_hist, bins=30)\n",
    "Answer-\n",
    "\"\"\"\n",
    "data_hist = np.random.randn(1000)\n",
    "hist, edges = np.histogram(data_hist, bins=30)\n",
    "\n",
    "plot = figure(title = 'Bokeh Histogram', x_axis_label = 'Value', y_axis_label='Frequency')\n",
    "\n",
    "plot.quad(top=hist, bottom=0, left=edges[:-1], right=edges[1:], fill_color=\"navy\", line_color=\"white\")\n",
    "\n",
    "show(plot)"
   ]
  },
  {
   "cell_type": "code",
   "execution_count": 6,
   "metadata": {},
   "outputs": [],
   "source": [
    "\"\"\"\n",
    "Q5) Create a Bokeh heatmap using the provided dataset.\n",
    "    data_heatmap = np.random.rand(10, 10)\n",
    "    x = np.linspace(0, 1, 10)\n",
    "    y = np.linspace(0, 1, 10)\n",
    "    xx, yy = np.meshgrid(x, y)\n",
    "\n",
    "\"\"\"\n",
    "data_heatmap = np.random.rand(10, 10)\n",
    "x = np.linspace(0, 1, 10)\n",
    "y = np.linspace(0, 1, 10)\n",
    "xx, yy = np.meshgrid(x, y)\n",
    "\n",
    "plot = figure(title=\"Bokeh Heatmap\", x_axis_label='X', y_axis_label='Y',\n",
    "              x_range=(0, 1), y_range=(0, 1), width=600, height=600)\n",
    "\n",
    "plot.image(image=[data_heatmap], x=0, y=0, dw=1, dh=1, palette=\"Viridis256\")\n",
    "\n",
    "show(plot)"
   ]
  }
 ],
 "metadata": {
  "kernelspec": {
   "display_name": "Python 3",
   "language": "python",
   "name": "python3"
  },
  "language_info": {
   "codemirror_mode": {
    "name": "ipython",
    "version": 3
   },
   "file_extension": ".py",
   "mimetype": "text/x-python",
   "name": "python",
   "nbconvert_exporter": "python",
   "pygments_lexer": "ipython3",
   "version": "3.12.6"
  }
 },
 "nbformat": 4,
 "nbformat_minor": 2
}
